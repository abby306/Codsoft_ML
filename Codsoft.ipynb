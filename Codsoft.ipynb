{
  "nbformat": 4,
  "nbformat_minor": 0,
  "metadata": {
    "colab": {
      "provenance": [],
      "authorship_tag": "ABX9TyMRbXxjDU3VG58aupT6Biu/",
      "include_colab_link": true
    },
    "kernelspec": {
      "name": "python3",
      "display_name": "Python 3"
    },
    "language_info": {
      "name": "python"
    }
  },
  "cells": [
    {
      "cell_type": "markdown",
      "metadata": {
        "id": "view-in-github",
        "colab_type": "text"
      },
      "source": [
        "<a href=\"https://colab.research.google.com/github/abby306/Codsoft_ML/blob/main/Codsoft.ipynb\" target=\"_parent\"><img src=\"https://colab.research.google.com/assets/colab-badge.svg\" alt=\"Open In Colab\"/></a>"
      ]
    },
    {
      "cell_type": "markdown",
      "source": [
        "Movie Genre Classifer"
      ],
      "metadata": {
        "id": "Rh_RELIgkJf2"
      }
    },
    {
      "cell_type": "code",
      "execution_count": 3,
      "metadata": {
        "colab": {
          "base_uri": "https://localhost:8080/"
        },
        "id": "oYyNN-m5bjXx",
        "outputId": "75799dd0-25f7-4d65-84ca-8fdd783bf423"
      },
      "outputs": [
        {
          "output_type": "stream",
          "name": "stdout",
          "text": [
            "Training and evaluating Naive Bayes classifier...\n",
            "Validation Accuracy for Naive Bayes: 0.46\n",
            "Test Accuracy for Naive Bayes: 0.46\n",
            "Classification Report for Naive Bayes:\n",
            "              precision    recall  f1-score   support\n",
            "\n",
            "      action       0.00      0.00      0.00       157\n",
            "       adult       0.00      0.00      0.00        73\n",
            "   adventure       0.00      0.00      0.00        81\n",
            "   animation       0.00      0.00      0.00        82\n",
            "   biography       0.00      0.00      0.00        34\n",
            "      comedy       0.65      0.14      0.23       855\n",
            "       crime       0.00      0.00      0.00        44\n",
            " documentary       0.53      0.88      0.66      1568\n",
            "       drama       0.40      0.87      0.54      1650\n",
            "      family       0.00      0.00      0.00        91\n",
            "     fantasy       0.00      0.00      0.00        28\n",
            "   game-show       0.00      0.00      0.00        20\n",
            "     history       0.00      0.00      0.00        32\n",
            "      horror       0.00      0.00      0.00       253\n",
            "       music       0.00      0.00      0.00        88\n",
            "     musical       0.00      0.00      0.00        21\n",
            "     mystery       0.00      0.00      0.00        32\n",
            "        news       0.00      0.00      0.00        25\n",
            "  reality-tv       0.00      0.00      0.00        96\n",
            "     romance       0.00      0.00      0.00        83\n",
            "      sci-fi       0.00      0.00      0.00        82\n",
            "       short       1.00      0.01      0.02       625\n",
            "       sport       0.00      0.00      0.00        44\n",
            "   talk-show       0.00      0.00      0.00        39\n",
            "    thriller       0.00      0.00      0.00       176\n",
            "         war       0.00      0.00      0.00        16\n",
            "     western       0.00      0.00      0.00       114\n",
            "\n",
            "    accuracy                           0.46      6409\n",
            "   macro avg       0.10      0.07      0.05      6409\n",
            "weighted avg       0.42      0.46      0.34      6409\n",
            "\n",
            "\n",
            "Training and evaluating Logistic Regression classifier...\n"
          ]
        },
        {
          "output_type": "stream",
          "name": "stderr",
          "text": [
            "/usr/local/lib/python3.10/dist-packages/sklearn/metrics/_classification.py:1344: UndefinedMetricWarning: Precision and F-score are ill-defined and being set to 0.0 in labels with no predicted samples. Use `zero_division` parameter to control this behavior.\n",
            "  _warn_prf(average, modifier, msg_start, len(result))\n",
            "/usr/local/lib/python3.10/dist-packages/sklearn/metrics/_classification.py:1344: UndefinedMetricWarning: Precision and F-score are ill-defined and being set to 0.0 in labels with no predicted samples. Use `zero_division` parameter to control this behavior.\n",
            "  _warn_prf(average, modifier, msg_start, len(result))\n",
            "/usr/local/lib/python3.10/dist-packages/sklearn/metrics/_classification.py:1344: UndefinedMetricWarning: Precision and F-score are ill-defined and being set to 0.0 in labels with no predicted samples. Use `zero_division` parameter to control this behavior.\n",
            "  _warn_prf(average, modifier, msg_start, len(result))\n",
            "/usr/local/lib/python3.10/dist-packages/sklearn/linear_model/_logistic.py:458: ConvergenceWarning: lbfgs failed to converge (status=1):\n",
            "STOP: TOTAL NO. of ITERATIONS REACHED LIMIT.\n",
            "\n",
            "Increase the number of iterations (max_iter) or scale the data as shown in:\n",
            "    https://scikit-learn.org/stable/modules/preprocessing.html\n",
            "Please also refer to the documentation for alternative solver options:\n",
            "    https://scikit-learn.org/stable/modules/linear_model.html#logistic-regression\n",
            "  n_iter_i = _check_optimize_result(\n"
          ]
        },
        {
          "output_type": "stream",
          "name": "stdout",
          "text": [
            "Validation Accuracy for Logistic Regression: 0.50\n"
          ]
        },
        {
          "output_type": "stream",
          "name": "stderr",
          "text": [
            "/usr/local/lib/python3.10/dist-packages/sklearn/linear_model/_logistic.py:458: ConvergenceWarning: lbfgs failed to converge (status=1):\n",
            "STOP: TOTAL NO. of ITERATIONS REACHED LIMIT.\n",
            "\n",
            "Increase the number of iterations (max_iter) or scale the data as shown in:\n",
            "    https://scikit-learn.org/stable/modules/preprocessing.html\n",
            "Please also refer to the documentation for alternative solver options:\n",
            "    https://scikit-learn.org/stable/modules/linear_model.html#logistic-regression\n",
            "  n_iter_i = _check_optimize_result(\n"
          ]
        },
        {
          "output_type": "stream",
          "name": "stdout",
          "text": [
            "Test Accuracy for Logistic Regression: 0.52\n",
            "Classification Report for Logistic Regression:\n",
            "              precision    recall  f1-score   support\n",
            "\n",
            "      action       1.00      0.03      0.05       157\n",
            "       adult       0.00      0.00      0.00        73\n",
            "   adventure       0.00      0.00      0.00        81\n",
            "   animation       0.00      0.00      0.00        82\n",
            "   biography       0.00      0.00      0.00        34\n",
            "      comedy       0.47      0.45      0.46       855\n",
            "       crime       0.00      0.00      0.00        44\n",
            " documentary       0.57      0.87      0.69      1568\n",
            "       drama       0.47      0.81      0.60      1650\n",
            "      family       0.00      0.00      0.00        91\n",
            "     fantasy       0.00      0.00      0.00        28\n",
            "   game-show       1.00      0.05      0.10        20\n",
            "     history       0.00      0.00      0.00        32\n",
            "      horror       0.73      0.26      0.38       253\n",
            "       music       1.00      0.07      0.13        88\n",
            "     musical       0.00      0.00      0.00        21\n",
            "     mystery       0.00      0.00      0.00        32\n",
            "        news       0.00      0.00      0.00        25\n",
            "  reality-tv       0.00      0.00      0.00        96\n",
            "     romance       0.00      0.00      0.00        83\n",
            "      sci-fi       0.67      0.02      0.05        82\n",
            "       short       0.54      0.15      0.24       625\n",
            "       sport       0.83      0.11      0.20        44\n",
            "   talk-show       0.00      0.00      0.00        39\n",
            "    thriller       0.33      0.02      0.04       176\n",
            "         war       0.00      0.00      0.00        16\n",
            "     western       0.91      0.26      0.41       114\n",
            "\n",
            "    accuracy                           0.52      6409\n",
            "   macro avg       0.32      0.12      0.12      6409\n",
            "weighted avg       0.48      0.52      0.43      6409\n",
            "\n",
            "\n",
            "Training and evaluating SVM classifier...\n"
          ]
        },
        {
          "output_type": "stream",
          "name": "stderr",
          "text": [
            "/usr/local/lib/python3.10/dist-packages/sklearn/metrics/_classification.py:1344: UndefinedMetricWarning: Precision and F-score are ill-defined and being set to 0.0 in labels with no predicted samples. Use `zero_division` parameter to control this behavior.\n",
            "  _warn_prf(average, modifier, msg_start, len(result))\n",
            "/usr/local/lib/python3.10/dist-packages/sklearn/metrics/_classification.py:1344: UndefinedMetricWarning: Precision and F-score are ill-defined and being set to 0.0 in labels with no predicted samples. Use `zero_division` parameter to control this behavior.\n",
            "  _warn_prf(average, modifier, msg_start, len(result))\n",
            "/usr/local/lib/python3.10/dist-packages/sklearn/metrics/_classification.py:1344: UndefinedMetricWarning: Precision and F-score are ill-defined and being set to 0.0 in labels with no predicted samples. Use `zero_division` parameter to control this behavior.\n",
            "  _warn_prf(average, modifier, msg_start, len(result))\n"
          ]
        },
        {
          "output_type": "stream",
          "name": "stdout",
          "text": [
            "Validation Accuracy for SVM: 0.49\n",
            "Test Accuracy for SVM: 0.50\n",
            "Classification Report for SVM:\n",
            "              precision    recall  f1-score   support\n",
            "\n",
            "      action       1.00      0.01      0.01       157\n",
            "       adult       0.00      0.00      0.00        73\n",
            "   adventure       0.00      0.00      0.00        81\n",
            "   animation       0.00      0.00      0.00        82\n",
            "   biography       0.00      0.00      0.00        34\n",
            "      comedy       0.55      0.34      0.42       855\n",
            "       crime       0.00      0.00      0.00        44\n",
            " documentary       0.56      0.87      0.68      1568\n",
            "       drama       0.43      0.86      0.57      1650\n",
            "      family       0.00      0.00      0.00        91\n",
            "     fantasy       0.00      0.00      0.00        28\n",
            "   game-show       1.00      0.20      0.33        20\n",
            "     history       0.00      0.00      0.00        32\n",
            "      horror       0.76      0.13      0.22       253\n",
            "       music       0.00      0.00      0.00        88\n",
            "     musical       0.00      0.00      0.00        21\n",
            "     mystery       0.00      0.00      0.00        32\n",
            "        news       0.00      0.00      0.00        25\n",
            "  reality-tv       0.00      0.00      0.00        96\n",
            "     romance       0.00      0.00      0.00        83\n",
            "      sci-fi       0.00      0.00      0.00        82\n",
            "       short       0.68      0.05      0.10       625\n",
            "       sport       0.71      0.11      0.20        44\n",
            "   talk-show       0.00      0.00      0.00        39\n",
            "    thriller       0.00      0.00      0.00       176\n",
            "         war       0.00      0.00      0.00        16\n",
            "     western       0.90      0.23      0.36       114\n",
            "\n",
            "    accuracy                           0.50      6409\n",
            "   macro avg       0.24      0.10      0.11      6409\n",
            "weighted avg       0.47      0.50      0.40      6409\n",
            "\n",
            "\n"
          ]
        },
        {
          "output_type": "stream",
          "name": "stderr",
          "text": [
            "/usr/local/lib/python3.10/dist-packages/sklearn/metrics/_classification.py:1344: UndefinedMetricWarning: Precision and F-score are ill-defined and being set to 0.0 in labels with no predicted samples. Use `zero_division` parameter to control this behavior.\n",
            "  _warn_prf(average, modifier, msg_start, len(result))\n",
            "/usr/local/lib/python3.10/dist-packages/sklearn/metrics/_classification.py:1344: UndefinedMetricWarning: Precision and F-score are ill-defined and being set to 0.0 in labels with no predicted samples. Use `zero_division` parameter to control this behavior.\n",
            "  _warn_prf(average, modifier, msg_start, len(result))\n",
            "/usr/local/lib/python3.10/dist-packages/sklearn/metrics/_classification.py:1344: UndefinedMetricWarning: Precision and F-score are ill-defined and being set to 0.0 in labels with no predicted samples. Use `zero_division` parameter to control this behavior.\n",
            "  _warn_prf(average, modifier, msg_start, len(result))\n"
          ]
        }
      ],
      "source": [
        "from sklearn.feature_extraction.text import TfidfVectorizer\n",
        "from sklearn.pipeline import Pipeline\n",
        "from sklearn.naive_bayes import MultinomialNB\n",
        "from sklearn.linear_model import LogisticRegression\n",
        "from sklearn.svm import SVC\n",
        "from sklearn.metrics import classification_report, accuracy_score\n",
        "from sklearn.model_selection import train_test_split\n",
        "import numpy as np\n",
        "\n",
        "# Step 1: Read and preprocess data\n",
        "def read_data(file_path):\n",
        "    data = []\n",
        "    with open(file_path, 'r', encoding='utf-8') as file:\n",
        "        for line in file:\n",
        "            parts = line.strip().split(\" ::: \")\n",
        "            if len(parts) == 4:  # Training data format\n",
        "                data.append((parts[3], parts[2]))\n",
        "    return data\n",
        "\n",
        "train_data = read_data('movie_train.txt')\n",
        "test_data = read_data('movie_test.txt')\n",
        "\n",
        "X_train, y_train = zip(*train_data)\n",
        "X_test, y_test = zip(*test_data)\n",
        "\n",
        "# Step 2: Create TF-IDF vectorizer\n",
        "tfidf_vectorizer = TfidfVectorizer(max_features=10000, stop_words='english')\n",
        "\n",
        "# Step 3: Choose a classifier\n",
        "classifiers = {\n",
        "    'Naive Bayes': MultinomialNB(),\n",
        "    'Logistic Regression': LogisticRegression(max_iter=100),\n",
        "    'SVM': SVC()\n",
        "}\n",
        "\n",
        "# Step 4 and 5: Train and evaluate\n",
        "for name, classifier in classifiers.items():\n",
        "    print(f\"Training and evaluating {name} classifier...\")\n",
        "    pipeline = Pipeline([\n",
        "        ('tfidf', tfidf_vectorizer),\n",
        "        ('clf', classifier)\n",
        "    ])\n",
        "\n",
        "    # Splitting the training data for evaluation\n",
        "    X_train_split, X_val, y_train_split, y_val = train_test_split(X_train, y_train, test_size=0.2, random_state=42)\n",
        "\n",
        "    pipeline.fit(X_train_split, y_train_split)\n",
        "    y_pred = pipeline.predict(X_val)\n",
        "\n",
        "    accuracy = accuracy_score(y_val, y_pred)\n",
        "    print(f\"Validation Accuracy for {name}: {accuracy:.2f}\")\n",
        "\n",
        "    # Retraining on the full training set\n",
        "    pipeline.fit(X_train, y_train)\n",
        "\n",
        "    # Predicting on the test data\n",
        "    y_test_pred = pipeline.predict(X_test)\n",
        "\n",
        "    # Evaluating on test data\n",
        "    test_accuracy = accuracy_score(y_test, y_test_pred)\n",
        "    print(f\"Test Accuracy for {name}: {test_accuracy:.2f}\")\n",
        "\n",
        "    # Classification report\n",
        "    report = classification_report(y_test, y_test_pred)\n",
        "    print(f\"Classification Report for {name}:\\n{report}\\n\")\n",
        "\n",
        "    # Saving predictions to a file\n",
        "    with open(f'{name}_predictions.txt', 'w', encoding='utf-8') as file:\n",
        "        for prediction in y_test_pred:\n",
        "            file.write(f\"{prediction}\\n\")\n"
      ]
    },
    {
      "cell_type": "markdown",
      "source": [
        "Spam Detection"
      ],
      "metadata": {
        "id": "YAuXqTDMlB--"
      }
    },
    {
      "cell_type": "code",
      "source": [
        "import pandas as pd\n",
        "from sklearn.model_selection import train_test_split\n",
        "from sklearn.feature_extraction.text import TfidfVectorizer\n",
        "from sklearn.naive_bayes import MultinomialNB\n",
        "from sklearn.linear_model import LogisticRegression\n",
        "from sklearn.svm import SVC\n",
        "from sklearn.metrics import accuracy_score, classification_report\n",
        "import nltk\n",
        "from nltk.corpus import stopwords\n",
        "nltk.download('stopwords')\n",
        "\n",
        "data = pd.read_csv('spam.csv',encoding='latin-1')\n",
        "data['v2'] = data['v2'].str.lower()\n",
        "data['v2'] = data['v2'].str.replace('[^\\w\\s]', '')\n",
        "\n",
        "X = data['v2']\n",
        "y = data['v1']\n",
        "\n",
        "X_train, X_test, y_train, y_test = train_test_split(X, y, test_size=0.2, random_state=42)\n",
        "\n",
        "tfidf_vectorizer = TfidfVectorizer(stop_words=stopwords.words('english'))\n",
        "X_train_tfidf = tfidf_vectorizer.fit_transform(X_train)\n",
        "X_test_tfidf = tfidf_vectorizer.transform(X_test)\n",
        "\n",
        "nb_classifier = MultinomialNB()\n",
        "nb_classifier.fit(X_train_tfidf, y_train)\n",
        "nb_pred = nb_classifier.predict(X_test_tfidf)\n",
        "print(\"Naive Bayes Accuracy:\", accuracy_score(y_test, nb_pred))\n",
        "print(classification_report(y_test, nb_pred))\n",
        "\n",
        "lr_classifier = LogisticRegression()\n",
        "lr_classifier.fit(X_train_tfidf, y_train)\n",
        "lr_pred = lr_classifier.predict(X_test_tfidf)\n",
        "print(\"Logistic Regression Accuracy:\", accuracy_score(y_test, lr_pred))\n",
        "print(classification_report(y_test, lr_pred))\n",
        "\n",
        "svm_classifier = SVC()\n",
        "svm_classifier.fit(X_train_tfidf, y_train)\n",
        "svm_pred = svm_classifier.predict(X_test_tfidf)\n",
        "print(\"SVM Accuracy:\", accuracy_score(y_test, svm_pred))\n",
        "print(classification_report(y_test, svm_pred))\n"
      ],
      "metadata": {
        "colab": {
          "base_uri": "https://localhost:8080/"
        },
        "id": "Nt4h737ClBb4",
        "outputId": "a594c63d-5a49-45f3-c113-b7a24f8997a1"
      },
      "execution_count": 6,
      "outputs": [
        {
          "output_type": "stream",
          "name": "stderr",
          "text": [
            "[nltk_data] Downloading package stopwords to /root/nltk_data...\n",
            "[nltk_data]   Package stopwords is already up-to-date!\n",
            "<ipython-input-6-f5b074ff2071>:14: FutureWarning: The default value of regex will change from True to False in a future version.\n",
            "  data['v2'] = data['v2'].str.replace('[^\\w\\s]', '')\n"
          ]
        },
        {
          "output_type": "stream",
          "name": "stdout",
          "text": [
            "Naive Bayes Accuracy: 0.967713004484305\n",
            "              precision    recall  f1-score   support\n",
            "\n",
            "         ham       0.96      1.00      0.98       965\n",
            "        spam       1.00      0.76      0.86       150\n",
            "\n",
            "    accuracy                           0.97      1115\n",
            "   macro avg       0.98      0.88      0.92      1115\n",
            "weighted avg       0.97      0.97      0.97      1115\n",
            "\n",
            "Logistic Regression Accuracy: 0.9515695067264573\n",
            "              precision    recall  f1-score   support\n",
            "\n",
            "         ham       0.95      1.00      0.97       965\n",
            "        spam       0.96      0.67      0.79       150\n",
            "\n",
            "    accuracy                           0.95      1115\n",
            "   macro avg       0.96      0.83      0.88      1115\n",
            "weighted avg       0.95      0.95      0.95      1115\n",
            "\n",
            "SVM Accuracy: 0.9757847533632287\n",
            "              precision    recall  f1-score   support\n",
            "\n",
            "         ham       0.97      1.00      0.99       965\n",
            "        spam       0.98      0.83      0.90       150\n",
            "\n",
            "    accuracy                           0.98      1115\n",
            "   macro avg       0.98      0.92      0.94      1115\n",
            "weighted avg       0.98      0.98      0.97      1115\n",
            "\n"
          ]
        }
      ]
    },
    {
      "cell_type": "markdown",
      "source": [
        "Customer Churn"
      ],
      "metadata": {
        "id": "pTI2_Yu94qb9"
      }
    },
    {
      "cell_type": "code",
      "source": [
        "import pandas as pd\n",
        "from sklearn.model_selection import train_test_split\n",
        "from sklearn.preprocessing import LabelEncoder,StandardScaler\n",
        "from sklearn.ensemble import RandomForestClassifier, GradientBoostingClassifier\n",
        "from sklearn.linear_model import LogisticRegression\n",
        "from sklearn.metrics import accuracy_score, classification_report\n",
        "\n",
        "data = pd.read_csv('Churn_Modelling.csv')\n",
        "data = data.drop(columns=['RowNumber', 'CustomerId', 'Surname'])\n",
        "\n",
        "label_encoder = LabelEncoder()\n",
        "data['Geography'] = label_encoder.fit_transform(data['Geography'])\n",
        "data['Gender'] = label_encoder.fit_transform(data['Gender'])\n",
        "\n",
        "X = data.drop(columns=['Exited'])\n",
        "y = data['Exited']\n",
        "\n",
        "X_train, X_test, y_train, y_test = train_test_split(X, y, test_size=0.2, random_state=42)\n",
        "\n",
        "scaler = StandardScaler()\n",
        "X_train_scaled = scaler.fit_transform(X_train)\n",
        "X_test_scaled = scaler.transform(X_test)\n",
        "\n",
        "lr_classifier = LogisticRegression()\n",
        "lr_classifier.fit(X_train_scaled, y_train)\n",
        "lr_pred = lr_classifier.predict(X_test_scaled)\n",
        "print(\"Logistic Regression Accuracy:\", accuracy_score(y_test, lr_pred))\n",
        "print(classification_report(y_test, lr_pred))\n",
        "\n",
        "rf_classifier = RandomForestClassifier()\n",
        "rf_classifier.fit(X_train_scaled, y_train)\n",
        "rf_pred = rf_classifier.predict(X_test_scaled)\n",
        "print(\"Random Forest Accuracy:\", accuracy_score(y_test, rf_pred))\n",
        "print(classification_report(y_test, rf_pred))\n",
        "\n",
        "gb_classifier = GradientBoostingClassifier()\n",
        "gb_classifier.fit(X_train_scaled, y_train)\n",
        "gb_pred = gb_classifier.predict(X_test_scaled)\n",
        "print(\"Gradient Boosting Accuracy:\", accuracy_score(y_test, gb_pred))\n",
        "print(classification_report(y_test, gb_pred))\n",
        "\n",
        "\n"
      ],
      "metadata": {
        "colab": {
          "base_uri": "https://localhost:8080/"
        },
        "id": "vgJ1_JPc4t03",
        "outputId": "d8cd9a0b-3540-48fd-cf1a-44905728dcf5"
      },
      "execution_count": 8,
      "outputs": [
        {
          "output_type": "stream",
          "name": "stdout",
          "text": [
            "Logistic Regression Accuracy: 0.815\n",
            "              precision    recall  f1-score   support\n",
            "\n",
            "           0       0.83      0.97      0.89      1607\n",
            "           1       0.60      0.18      0.28       393\n",
            "\n",
            "    accuracy                           0.81      2000\n",
            "   macro avg       0.71      0.58      0.59      2000\n",
            "weighted avg       0.78      0.81      0.77      2000\n",
            "\n",
            "Random Forest Accuracy: 0.8645\n",
            "              precision    recall  f1-score   support\n",
            "\n",
            "           0       0.88      0.96      0.92      1607\n",
            "           1       0.76      0.46      0.57       393\n",
            "\n",
            "    accuracy                           0.86      2000\n",
            "   macro avg       0.82      0.71      0.74      2000\n",
            "weighted avg       0.86      0.86      0.85      2000\n",
            "\n",
            "Gradient Boosting Accuracy: 0.865\n",
            "              precision    recall  f1-score   support\n",
            "\n",
            "           0       0.88      0.96      0.92      1607\n",
            "           1       0.75      0.47      0.58       393\n",
            "\n",
            "    accuracy                           0.86      2000\n",
            "   macro avg       0.82      0.71      0.75      2000\n",
            "weighted avg       0.86      0.86      0.85      2000\n",
            "\n"
          ]
        }
      ]
    }
  ]
}